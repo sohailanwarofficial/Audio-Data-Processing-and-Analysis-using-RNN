{
  "cells": [
    {
      "cell_type": "code",
      "execution_count": null,
      "metadata": {
        "id": "AfWSDw2xU6g3"
      },
      "outputs": [],
      "source": [
        "import os\n",
        "import librosa\n",
        "import librosa.display\n",
        "import numpy as np\n",
        "import matplotlib.pyplot as plt\n",
        "from tqdm import tqdm\n",
        "import time\n",
        "from google.colab import auth\n",
        "from google.colab import drive\n",
        "from googleapiclient.discovery import build\n",
        "from googleapiclient.http import MediaFileUpload\n"
      ]
    },
    {
      "cell_type": "code",
      "execution_count": null,
      "metadata": {
        "colab": {
          "base_uri": "https://localhost:8080/"
        },
        "id": "QasW-dsoaEKl",
        "outputId": "b03a8ea7-5bb3-4d9e-c13d-f0fdd0d9b7c4"
      },
      "outputs": [
        {
          "output_type": "stream",
          "name": "stdout",
          "text": [
            "Drive already mounted at /content/drive; to attempt to forcibly remount, call drive.mount(\"/content/drive\", force_remount=True).\n"
          ]
        }
      ],
      "source": [
        "# Authenticate Google Drive and Colab\n",
        "auth.authenticate_user()\n",
        "drive.mount('/content/drive')\n",
        "\n",
        "# Define paths and folders\n",
        "audio_folder_path = '/content/drive/MyDrive/clean_audio/'\n",
        "spectrogram_folder_path = '/content/drive/MyDrive/spectrograms_clean/'\n",
        "\n",
        "# Create the spectrogram folder if it doesn't exist\n",
        "if not os.path.exists(spectrogram_folder_path):\n",
        "    os.makedirs(spectrogram_folder_path)\n"
      ]
    },
    {
      "cell_type": "code",
      "execution_count": null,
      "metadata": {
        "colab": {
          "base_uri": "https://localhost:8080/"
        },
        "id": "XOnTGAuL6O0Q",
        "outputId": "86383b59-750f-477d-fe05-ce934cdfe612"
      },
      "outputs": [
        {
          "output_type": "stream",
          "name": "stderr",
          "text": [
            "Converting: 100%|██████████| 188/188 [01:14<00:00,  2.53audio/s]"
          ]
        },
        {
          "output_type": "stream",
          "name": "stdout",
          "text": [
            "Spectrogram images generated and saved successfully for 1 files.\n",
            "187 files were skipped as their spectrogram images already exist.\n",
            "Total time taken: 74.35 seconds.\n"
          ]
        },
        {
          "output_type": "stream",
          "name": "stderr",
          "text": [
            "\n"
          ]
        }
      ],
      "source": [
        "# List all audio files in the audio folder\n",
        "audio_files = [f for f in os.listdir(audio_folder_path) if f.endswith('.wav')]\n",
        "\n",
        "# Initialize variables for time measurement\n",
        "start_time = time.time()\n",
        "total_files = len(audio_files)\n",
        "skipped_files = 0  # Counter for skipped files\n",
        "\n",
        "# Loop through each audio file with a progress bar\n",
        "for audio_file in tqdm(audio_files, desc=\"Converting\", unit=\"audio\"):\n",
        "    # Check if corresponding spectrogram image exists\n",
        "    spectrogram_image_path = os.path.join(spectrogram_folder_path, os.path.splitext(audio_file)[0] + '.png')\n",
        "    if os.path.exists(spectrogram_image_path):\n",
        "        skipped_files += 1\n",
        "        continue  # Skip if spectrogram image already exists\n",
        "\n",
        "    # Load the audio file\n",
        "    audio_path = os.path.join(audio_folder_path, audio_file)\n",
        "    y, sr = librosa.load(audio_path)\n",
        "\n",
        "    # Generate the spectrogram\n",
        "    D = librosa.amplitude_to_db(np.abs(librosa.stft(y)), ref=np.max)\n",
        "\n",
        "    # Plot and save the spectrogram\n",
        "    plt.figure(figsize=(10, 6))\n",
        "    librosa.display.specshow(D, sr=sr, x_axis=None, y_axis=None)\n",
        "    plt.colorbar(format='%+2.0f dB')\n",
        "    plt.title('Spectrogram')\n",
        "\n",
        "  # Save the spectrogram image\n",
        "    plt.savefig(spectrogram_image_path, bbox_inches='tight', pad_inches=0)\n",
        "    plt.close()\n",
        "\n",
        "\n",
        "# Calculate the elapsed time\n",
        "elapsed_time = time.time() - start_time\n",
        "\n",
        "# Print completion message\n",
        "print(f\"Spectrogram images generated and saved successfully for {total_files - skipped_files} files.\")\n",
        "print(f\"{skipped_files} files were skipped as their spectrogram images already exist.\")\n",
        "print(f\"Total time taken: {elapsed_time:.2f} seconds.\")\n",
        "\n"
      ]
    }
  ],
  "metadata": {
    "colab": {
      "provenance": []
    },
    "kernelspec": {
      "display_name": "Python 3",
      "name": "python3"
    },
    "language_info": {
      "name": "python"
    }
  },
  "nbformat": 4,
  "nbformat_minor": 0
}